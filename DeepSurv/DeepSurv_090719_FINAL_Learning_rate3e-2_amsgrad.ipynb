{
 "cells": [
  {
   "cell_type": "markdown",
   "metadata": {},
   "source": [
    "# DeepSurv in Social Science: Modelling Refugee Journey Duration"
   ]
  },
  {
   "cell_type": "markdown",
   "metadata": {},
   "source": [
    "* This notebook applies DeepSurv, a Cox proportional hazards deep neural network, in a social science setting. I study whether DeepSurv outperforms the predictive accuracy of traditional Cox models. The basis for comparison is Harrel's c-index, which measures how well each model ranks the arrival times of refugees. The c-index of the best traditional Cox model is equal to 0.72. \n",
    "* The script first loads required packages. Those include DeepSurv, the deep learning package \"Lasagne\" as well as the widely-used Python packages numpy, pandas and matplotlib."
   ]
  },
  {
   "cell_type": "code",
   "execution_count": 1,
   "metadata": {},
   "outputs": [
    {
     "name": "stderr",
     "output_type": "stream",
     "text": [
      "/Users/timfingerhut/anaconda3/lib/python3.6/site-packages/h5py/__init__.py:36: FutureWarning: Conversion of the second argument of issubdtype from `float` to `np.floating` is deprecated. In future, it will be treated as `np.float64 == np.dtype(float).type`.\n",
      "  from ._conv import register_converters as _register_converters\n"
     ]
    }
   ],
   "source": [
    "import sys\n",
    "sys.path.append('../deepsurv')\n",
    "import deep_surv\n",
    "\n",
    "from deepsurv_logger import DeepSurvLogger, TensorboardLogger\n",
    "import utils\n",
    "import viz\n",
    "\n",
    "import numpy as np\n",
    "import pandas as pd\n",
    "\n",
    "import lasagne\n",
    "import matplotlib\n",
    "import matplotlib.pyplot as plt\n",
    "%matplotlib inline"
   ]
  },
  {
   "cell_type": "markdown",
   "metadata": {},
   "source": [
    "* These following three lines of code specify the training dataset. The second line of code reads the csv file. The third line outputs the first lines of code in order to make sure that the data was loaded correctly."
   ]
  },
  {
   "cell_type": "code",
   "execution_count": 2,
   "metadata": {},
   "outputs": [
    {
     "data": {
      "text/html": [
       "<div>\n",
       "<style scoped>\n",
       "    .dataframe tbody tr th:only-of-type {\n",
       "        vertical-align: middle;\n",
       "    }\n",
       "\n",
       "    .dataframe tbody tr th {\n",
       "        vertical-align: top;\n",
       "    }\n",
       "\n",
       "    .dataframe thead th {\n",
       "        text-align: right;\n",
       "    }\n",
       "</style>\n",
       "<table border=\"1\" class=\"dataframe\">\n",
       "  <thead>\n",
       "    <tr style=\"text-align: right;\">\n",
       "      <th></th>\n",
       "      <th>fail_1</th>\n",
       "      <th>dur</th>\n",
       "      <th>country1</th>\n",
       "      <th>country2</th>\n",
       "      <th>country4</th>\n",
       "      <th>country5</th>\n",
       "      <th>country6</th>\n",
       "      <th>country7</th>\n",
       "      <th>country8</th>\n",
       "      <th>country9</th>\n",
       "      <th>...</th>\n",
       "      <th>mmx_age_imp</th>\n",
       "      <th>english</th>\n",
       "      <th>french</th>\n",
       "      <th>mmx_yearsinschool_imp</th>\n",
       "      <th>uni_apprentice_abroad</th>\n",
       "      <th>practical_uni</th>\n",
       "      <th>theoretical_uni</th>\n",
       "      <th>phd</th>\n",
       "      <th>religion_islam</th>\n",
       "      <th>religion_christianity</th>\n",
       "    </tr>\n",
       "  </thead>\n",
       "  <tbody>\n",
       "    <tr>\n",
       "      <th>0</th>\n",
       "      <td>1</td>\n",
       "      <td>30</td>\n",
       "      <td>1</td>\n",
       "      <td>0</td>\n",
       "      <td>0</td>\n",
       "      <td>0</td>\n",
       "      <td>0</td>\n",
       "      <td>0</td>\n",
       "      <td>0</td>\n",
       "      <td>0</td>\n",
       "      <td>...</td>\n",
       "      <td>0.276923</td>\n",
       "      <td>0</td>\n",
       "      <td>0</td>\n",
       "      <td>0.526316</td>\n",
       "      <td>0</td>\n",
       "      <td>0</td>\n",
       "      <td>0</td>\n",
       "      <td>0</td>\n",
       "      <td>0</td>\n",
       "      <td>0</td>\n",
       "    </tr>\n",
       "    <tr>\n",
       "      <th>1</th>\n",
       "      <td>1</td>\n",
       "      <td>1</td>\n",
       "      <td>1</td>\n",
       "      <td>0</td>\n",
       "      <td>0</td>\n",
       "      <td>0</td>\n",
       "      <td>0</td>\n",
       "      <td>0</td>\n",
       "      <td>0</td>\n",
       "      <td>0</td>\n",
       "      <td>...</td>\n",
       "      <td>0.292308</td>\n",
       "      <td>1</td>\n",
       "      <td>0</td>\n",
       "      <td>0.578947</td>\n",
       "      <td>1</td>\n",
       "      <td>0</td>\n",
       "      <td>1</td>\n",
       "      <td>0</td>\n",
       "      <td>1</td>\n",
       "      <td>0</td>\n",
       "    </tr>\n",
       "    <tr>\n",
       "      <th>2</th>\n",
       "      <td>1</td>\n",
       "      <td>60</td>\n",
       "      <td>1</td>\n",
       "      <td>0</td>\n",
       "      <td>0</td>\n",
       "      <td>0</td>\n",
       "      <td>0</td>\n",
       "      <td>0</td>\n",
       "      <td>0</td>\n",
       "      <td>0</td>\n",
       "      <td>...</td>\n",
       "      <td>0.292308</td>\n",
       "      <td>0</td>\n",
       "      <td>0</td>\n",
       "      <td>0.526316</td>\n",
       "      <td>0</td>\n",
       "      <td>0</td>\n",
       "      <td>0</td>\n",
       "      <td>0</td>\n",
       "      <td>1</td>\n",
       "      <td>0</td>\n",
       "    </tr>\n",
       "    <tr>\n",
       "      <th>3</th>\n",
       "      <td>1</td>\n",
       "      <td>60</td>\n",
       "      <td>1</td>\n",
       "      <td>0</td>\n",
       "      <td>0</td>\n",
       "      <td>0</td>\n",
       "      <td>0</td>\n",
       "      <td>0</td>\n",
       "      <td>0</td>\n",
       "      <td>0</td>\n",
       "      <td>...</td>\n",
       "      <td>0.323077</td>\n",
       "      <td>1</td>\n",
       "      <td>0</td>\n",
       "      <td>0.526316</td>\n",
       "      <td>1</td>\n",
       "      <td>1</td>\n",
       "      <td>0</td>\n",
       "      <td>0</td>\n",
       "      <td>1</td>\n",
       "      <td>0</td>\n",
       "    </tr>\n",
       "    <tr>\n",
       "      <th>4</th>\n",
       "      <td>1</td>\n",
       "      <td>45</td>\n",
       "      <td>1</td>\n",
       "      <td>0</td>\n",
       "      <td>0</td>\n",
       "      <td>0</td>\n",
       "      <td>0</td>\n",
       "      <td>0</td>\n",
       "      <td>0</td>\n",
       "      <td>0</td>\n",
       "      <td>...</td>\n",
       "      <td>0.153846</td>\n",
       "      <td>0</td>\n",
       "      <td>0</td>\n",
       "      <td>0.105263</td>\n",
       "      <td>0</td>\n",
       "      <td>0</td>\n",
       "      <td>0</td>\n",
       "      <td>0</td>\n",
       "      <td>1</td>\n",
       "      <td>0</td>\n",
       "    </tr>\n",
       "  </tbody>\n",
       "</table>\n",
       "<p>5 rows × 67 columns</p>\n",
       "</div>"
      ],
      "text/plain": [
       "   fail_1  dur  country1  country2  country4  country5  country6  country7  \\\n",
       "0       1   30         1         0         0         0         0         0   \n",
       "1       1    1         1         0         0         0         0         0   \n",
       "2       1   60         1         0         0         0         0         0   \n",
       "3       1   60         1         0         0         0         0         0   \n",
       "4       1   45         1         0         0         0         0         0   \n",
       "\n",
       "   country8  country9  ...  mmx_age_imp  english  french  \\\n",
       "0         0         0  ...     0.276923        0       0   \n",
       "1         0         0  ...     0.292308        1       0   \n",
       "2         0         0  ...     0.292308        0       0   \n",
       "3         0         0  ...     0.323077        1       0   \n",
       "4         0         0  ...     0.153846        0       0   \n",
       "\n",
       "   mmx_yearsinschool_imp  uni_apprentice_abroad  practical_uni  \\\n",
       "0               0.526316                      0              0   \n",
       "1               0.578947                      1              0   \n",
       "2               0.526316                      0              0   \n",
       "3               0.526316                      1              1   \n",
       "4               0.105263                      0              0   \n",
       "\n",
       "   theoretical_uni  phd  religion_islam  religion_christianity  \n",
       "0                0    0               0                      0  \n",
       "1                1    0               1                      0  \n",
       "2                0    0               1                      0  \n",
       "3                0    0               1                      0  \n",
       "4                0    0               1                      0  \n",
       "\n",
       "[5 rows x 67 columns]"
      ]
     },
     "execution_count": 2,
     "metadata": {},
     "output_type": "execute_result"
    }
   ],
   "source": [
    "train_dataset_fp = './2006_final.csv'\n",
    "train_df = pd.read_csv(train_dataset_fp)\n",
    "train_df.head()"
   ]
  },
  {
   "cell_type": "markdown",
   "metadata": {},
   "source": [
    "* The data is now prepared into DeepSurv's format. As for traditional event history analysis, the failure and duration variables are indicated (in this case \"fail_1\" and \"dur\"). The other variables are treated as covariates. The DeepSurv dataframe is ready."
   ]
  },
  {
   "cell_type": "code",
   "execution_count": 3,
   "metadata": {},
   "outputs": [],
   "source": [
    "# event_col is the header in the df that represents the 'Event / Status' indicator\n",
    "# time_col is the header in the df that represents the event time\n",
    "def dataframe_to_deepsurv_ds(df, event_col = 'fail_1', time_col = 'dur'):\n",
    "    # Extract the event and time columns as numpy arrays\n",
    "    e = df[event_col].values.astype(np.int32)\n",
    "    t = df[time_col].values.astype(np.float32)\n",
    "\n",
    "    # Extract the patient's covariates as a numpy array\n",
    "    x_df = df.drop([event_col, time_col], axis = 1)\n",
    "    x = x_df.values.astype(np.float32)\n",
    "    \n",
    "    # Return the deep surv dataframe\n",
    "    return {\n",
    "        'x' : x,\n",
    "        'e' : e,\n",
    "        't' : t\n",
    "    }\n",
    "\n",
    "# If the headers of the csv change, you can replace the values of \n",
    "# 'event_col' and 'time_col' with the names of the new headers\n",
    "# You can also use this function on your training dataset, validation dataset, and testing dataset\n",
    "train_data = dataframe_to_deepsurv_ds(train_df, event_col = 'fail_1', time_col= 'dur')"
   ]
  },
  {
   "cell_type": "markdown",
   "metadata": {},
   "source": [
    "* Based on the manual hyperparameter tuning procedure, I retain the following hyperparameters."
   ]
  },
  {
   "cell_type": "code",
   "execution_count": 4,
   "metadata": {},
   "outputs": [],
   "source": [
    "hyperparams = {\n",
    "    'L2_reg': 10.0,\n",
    "    'batch_norm': True,\n",
    "    'dropout': 0.4,\n",
    "    'hidden_layers_sizes': [100, 100],\n",
    "    'learning_rate': 3e-2,\n",
    "    'lr_decay': 0.001,\n",
    "    'momentum': 0.9,\n",
    "    'n_in': train_data['x'].shape[1],\n",
    "    'standardize': True\n",
    "}"
   ]
  },
  {
   "cell_type": "markdown",
   "metadata": {},
   "source": [
    "* The dataframe and hyperparameters being defined, it is now time to train DeepSurv. DeepSurv comes with the option to use Tensorboard to monitor training and validation. This allows us to follow the training progress in real-time. \n",
    "* The code below also defines the update function as well as the number of training epochs. "
   ]
  },
  {
   "cell_type": "code",
   "execution_count": 5,
   "metadata": {},
   "outputs": [
    {
     "name": "stdout",
     "output_type": "stream",
     "text": [
      "2019-07-30 13:53:45,675 - Training step 0/2000    |                         | - loss: 23.3311 - ci: 0.6639\n",
      "2019-07-30 13:54:43,876 - Training step 250/2000  |***                      | - loss: 6.3844 - ci: 0.8368\n",
      "2019-07-30 13:55:44,226 - Training step 500/2000  |******                   | - loss: 6.2731 - ci: 0.8734\n",
      "2019-07-30 13:56:42,873 - Training step 750/2000  |*********                | - loss: 6.2329 - ci: 0.8915\n",
      "2019-07-30 13:57:41,429 - Training step 1000/2000 |************             | - loss: 6.1705 - ci: 0.8971\n",
      "2019-07-30 13:58:42,531 - Training step 1250/2000 |***************          | - loss: 6.1805 - ci: 0.9046\n",
      "2019-07-30 13:59:41,270 - Training step 1500/2000 |******************       | - loss: 6.1290 - ci: 0.9070\n",
      "2019-07-30 14:00:39,638 - Training step 1750/2000 |*********************    | - loss: 6.1346 - ci: 0.9047\n",
      "2019-07-30 14:01:37,559 - Finished Training with 2000 iterations in 472.25s\n"
     ]
    }
   ],
   "source": [
    "# Create an instance of DeepSurv using the hyperparams defined above\n",
    "model = deep_surv.DeepSurv(**hyperparams)\n",
    "\n",
    "# DeepSurv can now leverage TensorBoard to monitor training and validation\n",
    "# This section of code is optional. If you don't want to use the tensorboard logger\n",
    "# Uncomment the below line, and comment out the other three lines: \n",
    "# logger = None\n",
    "\n",
    "experiment_name = 'test_experiment_tim'\n",
    "logdir = './logs/tensorboard/'\n",
    "logger = TensorboardLogger(experiment_name, logdir=logdir)\n",
    "\n",
    "# Now we train the model\n",
    "update_fn=lasagne.updates.amsgrad # The type of optimizer to use. \\\n",
    "                                            # Check out http://lasagne.readthedocs.io/en/latest/modules/updates.html \\\n",
    "                                            # for other optimizers to use\n",
    "n_epochs = 2000\n",
    "\n",
    "# If you have validation data, you can add it as the second parameter to the function\n",
    "metrics = model.train(train_data, n_epochs=n_epochs, logger=logger, update_fn=update_fn)"
   ]
  },
  {
   "cell_type": "markdown",
   "metadata": {},
   "source": [
    "* Finally, it is time to visualize and print the metrics of DeepSurv. Compared to the traditional Cox model (c-index = 0.72), DeepSurv is substantially better at correctly predicting the ordering of refugees' arrival times (c-index = 0.9102). "
   ]
  },
  {
   "cell_type": "code",
   "execution_count": 6,
   "metadata": {},
   "outputs": [
    {
     "name": "stdout",
     "output_type": "stream",
     "text": [
      "Train C-Index: (1999, 0.9101721615528376)\n"
     ]
    },
    {
     "data": {
      "image/png": "[encoded data removed]",
      "text/plain": [
       "<Figure size 432x288 with 1 Axes>"
      ]
     },
     "metadata": {},
     "output_type": "display_data"
    },
    {
     "data": {
      "image/png": "[encoded data removed]",
      "text/plain": [
       "<Figure size 432x288 with 1 Axes>"
      ]
     },
     "metadata": {},
     "output_type": "display_data"
    }
   ],
   "source": [
    "# Print the final metrics\n",
    "print('Train C-Index:', metrics['c-index'][-1])\n",
    "# print('Valid C-Index: ',metrics['valid_c-index'][-1])\n",
    "\n",
    "# Plot the training / validation curves\n",
    "viz.plot_log(metrics)"
   ]
  }
 ],
 "metadata": {
  "kernelspec": {
   "display_name": "Python 3",
   "language": "python",
   "name": "python3"
  },
  "language_info": {
   "codemirror_mode": {
    "name": "ipython",
    "version": 3
   },
   "file_extension": ".py",
   "mimetype": "text/x-python",
   "name": "python",
   "nbconvert_exporter": "python",
   "pygments_lexer": "ipython3",
   "version": "3.6.6"
  }
 },
 "nbformat": 4,
 "nbformat_minor": 2
}
